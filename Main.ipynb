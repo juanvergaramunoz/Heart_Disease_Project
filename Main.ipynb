{
 "cells": [
  {
   "cell_type": "code",
   "execution_count": null,
   "metadata": {},
   "outputs": [],
   "source": [
    "##### !!! DO ONLY ONCE !!! ####\n",
    "# WE IMPORT THE DATA INTO OUR LOCAL ECOSYSTEM\n",
    "##### !!! DO ONLY ONCE !!! ####\n",
    "\n",
    "import urllib.request\n",
    "\n",
    "print('Beginning file download with urllib2...')\n",
    "\n",
    "url = 'https://archive.ics.uci.edu/ml/machine-learning-databases/heart-disease/processed.cleveland.data'  \n",
    "urllib.request.urlretrieve(url, '/Users/Juan/A_DataScience_Project/datasets/cleveland.data')  "
   ]
  },
  {
   "cell_type": "code",
   "execution_count": 30,
   "metadata": {},
   "outputs": [],
   "source": [
    "#WE READ THE DATA FROM OUR LOCAL ECOSYSTEM\n",
    "filepath = '/Users/Juan/A_DataScience_Project/datasets/'\n",
    "filename = 'cleveland.data'\n",
    "f=open(filepath + filename,\"r\")"
   ]
  },
  {
   "cell_type": "code",
   "execution_count": 32,
   "metadata": {},
   "outputs": [],
   "source": [
    "#WE DEFINE A FUNCTION TO CONVERT THE TEXT EXTRACTED (.data file) TO A PYTHON OBJECT\n",
    "def create_object_from_string(data):\n",
    "    new_val = \"\"\n",
    "    new_row = []\n",
    "    new_object = []\n",
    "    skip_row = False\n",
    "    for elem in data:\n",
    "        if elem != \",\" and elem != \"\\n\":\n",
    "            #We append characters until we have a whole value (indicated by a comma or a new-line)\n",
    "            new_val += elem\n",
    "            if elem == \"?\":\n",
    "                skip_row = True\n",
    "        elif elem == \",\":\n",
    "            # We ommit the rows that have an unkown value < \"?\" >\n",
    "            if skip_row == True:\n",
    "                new_val = \"\"\n",
    "                continue\n",
    "            \n",
    "            # We append the new value to the row\n",
    "            new_row.append( float(new_val) )\n",
    "            new_val = \"\"\n",
    "        elif elem == \"\\n\":\n",
    "            # We ommit the rows that have an unkown value < \"?\" >\n",
    "            if skip_row == True:\n",
    "                new_row = []\n",
    "                skip_row = False\n",
    "                continue\n",
    "            \n",
    "            # We append the new value to the row\n",
    "            new_row.append( float(new_val) )\n",
    "            new_val = \"\"\n",
    "            \n",
    "            # We append the new row to the object\n",
    "            new_object.append(new_row)\n",
    "            new_row = []\n",
    "\n",
    "    return new_object\n",
    "\n",
    "        "
   ]
  },
  {
   "cell_type": "code",
   "execution_count": 33,
   "metadata": {
    "scrolled": true
   },
   "outputs": [
    {
     "name": "stdout",
     "output_type": "stream",
     "text": [
      "------- DATA EXTRACTED ---------\n",
      "\n",
      "NUMBER OF CASES: 297\n",
      "NUMBER OF ATTRIBUTES: 14\n",
      "FIRST ROW:  [63.0, 1.0, 1.0, 145.0, 233.0, 1.0, 2.0, 150.0, 0.0, 2.3, 3.0, 0.0, 6.0, 0.0]\n",
      "LAST ROW:  [57.0, 0.0, 2.0, 130.0, 236.0, 0.0, 2.0, 174.0, 0.0, 0.0, 2.0, 1.0, 3.0, 1.0]\n"
     ]
    }
   ],
   "source": [
    "#WE HAVE A LOOK INTO THE DATA DOWNLOADED\n",
    "import json\n",
    "import numpy as np\n",
    "\n",
    "dataset_string = f.read()\n",
    "dataset = create_object_from_string(dataset_string)\n",
    "\n",
    "n_cases, n_attributes = np.shape(dataset)\n",
    "\n",
    "print( \"------- DATA EXTRACTED ---------\\n\" )\n",
    "print( \"NUMBER OF CASES:\", n_cases )\n",
    "print( \"NUMBER OF ATTRIBUTES:\", n_attributes )\n",
    "print( \"FIRST ROW: \", dataset[0] )\n",
    "print( \"LAST ROW: \", dataset[ n_cases-1 ] )"
   ]
  },
  {
   "cell_type": "code",
   "execution_count": null,
   "metadata": {},
   "outputs": [],
   "source": []
  }
 ],
 "metadata": {
  "kernelspec": {
   "display_name": "Python 3",
   "language": "python",
   "name": "python3"
  },
  "language_info": {
   "codemirror_mode": {
    "name": "ipython",
    "version": 3
   },
   "file_extension": ".py",
   "mimetype": "text/x-python",
   "name": "python",
   "nbconvert_exporter": "python",
   "pygments_lexer": "ipython3",
   "version": "3.6.4"
  }
 },
 "nbformat": 4,
 "nbformat_minor": 2
}
